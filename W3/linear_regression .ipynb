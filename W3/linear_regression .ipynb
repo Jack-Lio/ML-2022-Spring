{
 "cells": [
  {
   "cell_type": "code",
   "execution_count": null,
   "id": "70bc96ad",
   "metadata": {},
   "outputs": [],
   "source": [
    "#!/user/bin/env python\n",
    "# -*- coding:utf-8 -*-\n",
    "# author: Wei Li\n",
    "# creat: 2022-3-29\n",
    "# modify: 2022-3-29\n",
    "# function: Implement the least square method and gradient descent method \n",
    "# for solving the linear regression problem\n",
    "\n",
    "\n"
   ]
  }
 ],
 "metadata": {
  "kernelspec": {
   "display_name": "Python 3",
   "language": "python",
   "name": "python3"
  },
  "language_info": {
   "codemirror_mode": {
    "name": "ipython",
    "version": 3
   },
   "file_extension": ".py",
   "mimetype": "text/x-python",
   "name": "python",
   "nbconvert_exporter": "python",
   "pygments_lexer": "ipython3",
   "version": "3.8.8"
  }
 },
 "nbformat": 4,
 "nbformat_minor": 5
}
