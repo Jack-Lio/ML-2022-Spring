{
 "cells": [
  {
   "cell_type": "code",
   "execution_count": 1,
   "id": "505a6efe",
   "metadata": {},
   "outputs": [],
   "source": [
    "#!/user/bin/env python\n",
    "# -*- coding:utf-8 -*-\n",
    "# author: Wei Li\n",
    "# creat: 2022-3-29\n",
    "# modify: 2022-3-29\n",
    "# function: Implement the least square method and gradient descent method \n",
    "# for solving the linear regression problem\n",
    "\n",
    "\n",
    "import numpy as np\n",
    "import matplotlib.pyplot as plt\n",
    "\n",
    "from numpy.linalg import cholesky\n",
    "\n",
    "from utls import Generate_Samples,f "
   ]
  },
  {
   "cell_type": "code",
   "execution_count": 2,
   "id": "97384b16",
   "metadata": {},
   "outputs": [],
   "source": [
    "# the parameter setting for generating 10 samples \n",
    "N  = 10\n",
    "X_range = (-5,5)\n",
    "mu = 0\n",
    "sigma = 0.2\n",
    "\n",
    "# generate N samples with the functions above\n",
    "samples = Generate_Samples(N,X_range,mu,sigma,f)\n",
    "samples = sorted(samples,key=lambda samples:samples[1])"
   ]
  },
  {
   "cell_type": "code",
   "execution_count": 3,
   "id": "6aa6edce",
   "metadata": {
    "scrolled": true
   },
   "outputs": [
    {
     "data": {
      "image/png": "[encoded data removed]",
      "text/plain": [
       "<Figure size 432x288 with 1 Axes>"
      ]
     },
     "metadata": {
      "needs_background": "light"
     },
     "output_type": "display_data"
    }
   ],
   "source": [
    "# Plot the uniform distribution of 'x_i's\n",
    "plt.hist([s[0] for s in samples],[x for x in range(-5,6)])\n",
    "plt.show()"
   ]
  },
  {
   "cell_type": "code",
   "execution_count": 4,
   "id": "3f33e5e6",
   "metadata": {},
   "outputs": [
    {
     "data": {
      "image/png": "[encoded data removed]",
      "text/plain": [
       "<Figure size 432x288 with 1 Axes>"
      ]
     },
     "metadata": {
      "needs_background": "light"
     },
     "output_type": "display_data"
    }
   ],
   "source": [
    "# plot sample dispersion and the curve of y_i = f(x_i)\n",
    "plt.plot([s[0] for s in samples],[s[1] for s in samples],'x')\n",
    "x = np.linspace(-5,5,1000)\n",
    "plt.plot(x,f(x),color='red',linewidth=1)\n",
    "plt.show()"
   ]
  },
  {
   "cell_type": "code",
   "execution_count": 5,
   "id": "2c49c716",
   "metadata": {},
   "outputs": [
    {
     "name": "stdout",
     "output_type": "stream",
     "text": [
      "x_i = -3.38, y_i = -1.40\n",
      "x_i = 3.37, y_i = -0.45\n",
      "x_i = 2.63, y_i = -0.40\n",
      "x_i = 3.38, y_i = -0.22\n",
      "x_i = 4.03, y_i = -0.05\n",
      "x_i = -0.20, y_i = 0.66\n",
      "x_i = -0.50, y_i = 0.66\n",
      "x_i = 4.71, y_i = 0.81\n",
      "x_i = 0.31, y_i = 0.90\n",
      "x_i = 4.67, y_i = 1.04\n"
     ]
    }
   ],
   "source": [
    "# display the generated samples\n",
    "for s in samples:\n",
    "    print(\"x_i = %.2f, y_i = %.2f\"%(s[0],s[1]))"
   ]
  }
 ],
 "metadata": {
  "kernelspec": {
   "display_name": "Python 3",
   "language": "python",
   "name": "python3"
  },
  "language_info": {
   "codemirror_mode": {
    "name": "ipython",
    "version": 3
   },
   "file_extension": ".py",
   "mimetype": "text/x-python",
   "name": "python",
   "nbconvert_exporter": "python",
   "pygments_lexer": "ipython3",
   "version": "3.8.8"
  }
 },
 "nbformat": 4,
 "nbformat_minor": 5
}
