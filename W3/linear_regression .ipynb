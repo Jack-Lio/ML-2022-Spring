{
 "cells": [
  {
   "cell_type": "code",
   "execution_count": 1,
   "id": "505a6efe",
   "metadata": {},
   "outputs": [],
   "source": [
    "#!/user/bin/env python\n",
    "# -*- coding:utf-8 -*-\n",
    "# author: Wei Li\n",
    "# creat: 2022-3-29\n",
    "# modify: 2022-3-29\n",
    "# function: Implement the least square method and gradient descent method \n",
    "# for solving the linear regression problem\n",
    "\n",
    "\n",
    "import numpy as np\n",
    "import matplotlib.pyplot as plt\n",
    "\n",
    "from numpy.linalg import cholesky\n"
   ]
  },
  {
   "cell_type": "code",
   "execution_count": 45,
   "id": "97384b16",
   "metadata": {},
   "outputs": [],
   "source": [
    "# generate 10 samples \n",
    "N  = 10\n",
    "X_range = (-5,5)\n",
    "mu = 0\n",
    "sigma = 0.2\n",
    "\n",
    "def f(x):\n",
    "    return np.sin(x/5)+np.cos(x)\n",
    "\n",
    "def Generate_Samples(N,X_range,mu,sigma):\n",
    "    '''\n",
    "        Generate the samples with the function f(x) and error epsilons\n",
    "        @param: N the, samples numbers \n",
    "                X_range, the value range of x_i\n",
    "                mu, the mean of the error normal distribution\n",
    "                sigma, the standard deviation of the error normal distribution\n",
    "        @return: samples, the generated samples. \n",
    "    '''\n",
    "    epsilons = np.random.normal(mu,sigma,N)\n",
    "    X = np.random.uniform(X_range[0],X_range[1],N)\n",
    "    samples = []\n",
    "    for x_i, epsilon in zip(X,epsilons):\n",
    "        samples.append((x_i,f(x_i)+epsilon))\n",
    "    return samples"
   ]
  },
  {
   "cell_type": "code",
   "execution_count": 46,
   "id": "6aa6edce",
   "metadata": {
    "scrolled": true
   },
   "outputs": [
    {
     "data": {
      "image/png": "[encoded data removed]",
      "text/plain": [
       "<Figure size 432x288 with 1 Axes>"
      ]
     },
     "metadata": {
      "needs_background": "light"
     },
     "output_type": "display_data"
    },
    {
     "data": {
      "image/png": "[encoded data removed]",
      "text/plain": [
       "<Figure size 432x288 with 1 Axes>"
      ]
     },
     "metadata": {
      "needs_background": "light"
     },
     "output_type": "display_data"
    },
    {
     "name": "stdout",
     "output_type": "stream",
     "text": [
      "Samples:  [(-3.4492531309271857, -1.7700860921019381), (-3.9877355655210476, -1.3985741081989016), (-4.26199697033981, -1.11736862858175), (-1.9733902943309047, -0.7286393381233645), (3.3736091612523023, -0.3920171767436664), (3.1891077453774805, -0.2313057102243238), (-1.0664741436131298, 0.006931761243736068), (1.165059616936932, 0.6768179274037461), (0.965316161021458, 0.7468163757854606), (4.866903318887548, 1.045756102645296)]\n"
     ]
    }
   ],
   "source": [
    "# generate N samples with the functions above\n",
    "samples = Generate_Samples(N,X_range,mu,sigma)\n",
    "samples = sorted(samples,key=lambda samples:samples[1])\n",
    "\n",
    "# Plot the uniform distribution of 'x_i's\n",
    "plt.hist([s[0] for s in samples],[x for x in range(-5,6)])\n",
    "plt.show()\n",
    "\n",
    "# plot sample dispersion and the curve of y_i = f(x_i)\n",
    "plt.plot([s[0] for s in samples],[s[1] for s in samples],'x')\n",
    "x = np.linspace(-5,5,1000)\n",
    "plt.plot(x,f(x),color='red',linewidth=1)\n",
    "plt.show()\n",
    "\n",
    "# display the generated samples\n",
    "print(\"Samples: \",samples)"
   ]
  },
  {
   "cell_type": "code",
   "execution_count": null,
   "id": "3f33e5e6",
   "metadata": {},
   "outputs": [],
   "source": []
  }
 ],
 "metadata": {
  "kernelspec": {
   "display_name": "Python 3",
   "language": "python",
   "name": "python3"
  },
  "language_info": {
   "codemirror_mode": {
    "name": "ipython",
    "version": 3
   },
   "file_extension": ".py",
   "mimetype": "text/x-python",
   "name": "python",
   "nbconvert_exporter": "python",
   "pygments_lexer": "ipython3",
   "version": "3.8.8"
  }
 },
 "nbformat": 4,
 "nbformat_minor": 5
}
