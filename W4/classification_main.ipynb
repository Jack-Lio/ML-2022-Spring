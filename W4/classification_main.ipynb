{
 "cells": [
  {
   "cell_type": "code",
   "execution_count": 1,
   "metadata": {},
   "outputs": [],
   "source": [
    "#!/user/bin/env python\n",
    "# coding: utf-8\n",
    "# author: Li Wei\n",
    "# date: 2020/04/12\n",
    "# do the classification task with LDA_OLS, probit regression and generalized model, and compare the results\n",
    "\n",
    "\n",
    "import numpy as np\n",
    "import matplotlib.pyplot as plt\n",
    "import pandas as pd\n",
    "\n",
    "from dataloader import DataLoader\n",
    "from LDA_OLS import LDA_OLS\n",
    "from LDA_PR import LDA_PR\n",
    "from LDA_PGM import LDA_PGM\n",
    "from utls import *\n",
    "\n",
    "# setting jupyter display to show all columns\n",
    "pd.set_option('display.max_columns',10000)"
   ]
  },
  {
   "cell_type": "code",
   "execution_count": 2,
   "metadata": {},
   "outputs": [
    {
     "name": "stdout",
     "output_type": "stream",
     "text": [
      "the train set shape is: (200, 34) (200, 1)\n",
      "the test set shape is: (151, 34) (151, 1)\n",
      "the feature and label example is as follows:\n",
      " [1.0, 0.0, 0.99539, -0.05889, 0.85243, 0.02306, 0.83398, -0.37708, 1.0, 0.0376, 0.85243, -0.17755, 0.59755, -0.44945, 0.60536, -0.38223, 0.84356, -0.38542, 0.58212, -0.32192, 0.56971, -0.29674, 0.36946, -0.47357, 0.56811, -0.51171, 0.41078, -0.46168, 0.21266, -0.3409, 0.42267, -0.54487, 0.18641, -0.453] [1]\n"
     ]
    }
   ],
   "source": [
    "# defind the path config\n",
    "data_path = 'data\\Ionosphere+Dataset.csv'\n",
    "model_save_path = 'checkpoints/'\n",
    "result_save_path = 'results/'\n",
    "\n",
    "# load the data\n",
    "data_loader = DataLoader(data_path)\n",
    "train_set,test_set = data_loader.data_split()  # train_set and test_set are tuple type as (features,labels)\n",
    "train_feautres,train_labels = np.array(train_set[0]),np.array(train_set[1])\n",
    "test_features,test_labels = np.array(test_set[0]),np.array(test_set[1])\n",
    "print('the train set shape is:',train_feautres.shape,train_labels.shape)\n",
    "print('the test set shape is:',test_features.shape,test_labels.shape)\n",
    "print(\"the feature and label example is as follows:\\n\",train_set[0][0],train_set[1][0])"
   ]
  },
  {
   "cell_type": "code",
   "execution_count": 3,
   "metadata": {},
   "outputs": [],
   "source": [
    "# preparation for the model training\n",
    "input_dim = train_feautres.shape[1]             # input dimension\n",
    "output_dim = train_labels.shape[1]              # output dimension"
   ]
  },
  {
   "cell_type": "code",
   "execution_count": 4,
   "metadata": {},
   "outputs": [
    {
     "name": "stdout",
     "output_type": "stream",
     "text": [
      "the model weight matrix shape: (34, 1)\n",
      "the bias matrix shape: (1, 1).\n"
     ]
    }
   ],
   "source": [
    "# train the LDA_OLS model\n",
    "lda_ols = LDA_OLS(input_dim=input_dim,output_dim=output_dim )\n",
    "lda_ols.fit(train_feautres,train_labels)\n",
    "print(\"the model weight matrix shape: {0}\\nthe bias matrix shape: {1}.\".format(lda_ols.get_w().shape,lda_ols.get_b().shape))"
   ]
  },
  {
   "cell_type": "code",
   "execution_count": 5,
   "metadata": {},
   "outputs": [
    {
     "name": "stdout",
     "output_type": "stream",
     "text": [
      "train error rate: 0.125\n",
      "test error rate: 0.09271523178807947\n"
     ]
    }
   ],
   "source": [
    "# test the LDA_OLS model\n",
    "train_error_rate_for_LDA_OLS = test(lda_ols,train_feautres,train_labels)\n",
    "test_error_rate_for_LDA_OLS = test(lda_ols,test_features,test_labels)\n",
    "print(\"train error rate: {0}\\ntest error rate: {1}\".format(train_error_rate_for_LDA_OLS,test_error_rate_for_LDA_OLS))"
   ]
  },
  {
   "cell_type": "code",
   "execution_count": 6,
   "metadata": {},
   "outputs": [
    {
     "name": "stdout",
     "output_type": "stream",
     "text": [
      "epoch: 1000 loss: 0.24912266364950825\n",
      "epoch: 2000 loss: 0.2295069369237184\n",
      "epoch: 3000 loss: 0.21807287293466218\n",
      "epoch: 4000 loss: 0.21161197616582528\n",
      "epoch: 5000 loss: 0.20647802281687513\n",
      "epoch: 6000 loss: 0.20214772188889354\n",
      "epoch: 7000 loss: 0.19892830082053725\n",
      "epoch: 8000 loss: 0.1962514224934239\n",
      "epoch: 9000 loss: 0.19379313095985168\n",
      "epoch: 10000 loss: 0.19171064023958162\n",
      "epoch: 11000 loss: 0.18992180231218947\n",
      "epoch: 12000 loss: 0.18837896444121532\n",
      "epoch: 13000 loss: 0.1870507140533696\n",
      "epoch: 14000 loss: 0.18600640476439023\n",
      "epoch: 15000 loss: 0.18527636379072138\n",
      "epoch: 16000 loss: 0.1835926903313971\n",
      "epoch: 17000 loss: 0.18266320453168372\n",
      "epoch: 18000 loss: 0.18158311055881574\n",
      "epoch: 19000 loss: 0.1809004259692604\n",
      "epoch: 20000 loss: 0.1801466330651015\n",
      "weight: [[ 6.47822383e+00]\n",
      " [ 0.00000000e+00]\n",
      " [ 8.87720028e-01]\n",
      " [ 1.78082353e-01]\n",
      " [ 2.45076587e+00]\n",
      " [ 1.58135232e+00]\n",
      " [ 1.37753668e-01]\n",
      " [ 1.95476162e+00]\n",
      " [ 5.23663142e-01]\n",
      " [ 1.42492385e-01]\n",
      " [-4.54513065e-01]\n",
      " [-3.71157370e-02]\n",
      " [ 1.62565798e-03]\n",
      " [ 4.22783470e-01]\n",
      " [ 2.02957306e+00]\n",
      " [-2.71146282e+00]\n",
      " [-8.41957522e-01]\n",
      " [ 7.16253163e-02]\n",
      " [-2.77601696e+00]\n",
      " [ 7.63977226e-01]\n",
      " [ 1.31840245e+00]\n",
      " [-1.36242562e+00]\n",
      " [ 6.66256609e-01]\n",
      " [ 8.81280365e-02]\n",
      " [ 1.65058398e+00]\n",
      " [ 3.28622397e-01]\n",
      " [-5.07525308e+00]\n",
      " [-2.54843154e-01]\n",
      " [ 2.41626970e+00]\n",
      " [ 1.93809015e+00]\n",
      " [ 1.47701656e+00]\n",
      " [ 6.31968064e-01]\n",
      " [-7.75694812e-01]\n",
      " [-1.52265414e+00]]\n",
      "bias: [[-8.03594791]]\n"
     ]
    },
    {
     "data": {
      "image/png": "[encoded data removed]",
      "text/plain": [
       "<Figure size 432x288 with 1 Axes>"
      ]
     },
     "metadata": {
      "needs_background": "light"
     },
     "output_type": "display_data"
    },
    {
     "name": "stdout",
     "output_type": "stream",
     "text": [
      "the model weight matrix shape: (34, 1)\n",
      "the bias matrix shape: (1, 1).\n"
     ]
    }
   ],
   "source": [
    "# train the probit regression model\n",
    "lda_pr = LDA_PR(input_dim=input_dim,output_dim=output_dim)\n",
    "all_loss = lda_pr.fit(train_feautres,train_labels,lr = 0.001,max_epoch = 20000,batch_size = 64,epsilon = 1e-6,show_parameter=True)\n",
    "# display the loss curve\n",
    "plt.plot(np.array(all_loss).flatten(),label='loss')\n",
    "plt.title('the loss curve of probit regression')\n",
    "plt.xlabel('epoch')\n",
    "plt.ylabel('loss')\n",
    "plt.show()\n",
    "print(\"the model weight matrix shape: {0}\\nthe bias matrix shape: {1}.\".format(lda_pr.get_w().shape,lda_pr.get_b().shape))"
   ]
  },
  {
   "cell_type": "code",
   "execution_count": 7,
   "metadata": {},
   "outputs": [
    {
     "name": "stdout",
     "output_type": "stream",
     "text": [
      "train error rate: 0.085\n",
      "test error rate: 0.09271523178807947\n"
     ]
    }
   ],
   "source": [
    "# test  the probit regression model\n",
    "train_error_rate_for_lda_pr = test(lda_pr,train_feautres,train_labels)\n",
    "test_error_rate_for_lda_pr = test(lda_pr,test_features,test_labels)\n",
    "print(\"train error rate: {0}\\ntest error rate: {1}\".format(train_error_rate_for_lda_pr,test_error_rate_for_lda_pr))"
   ]
  },
  {
   "cell_type": "code",
   "execution_count": 8,
   "metadata": {},
   "outputs": [
    {
     "name": "stdout",
     "output_type": "stream",
     "text": [
      "(34, 34)\n",
      "the model weight matrix shape: (34,)\n",
      "the bias matrix shape: ().\n"
     ]
    }
   ],
   "source": [
    "# train the LDA_PGM model \n",
    "lda_pgm = LDA_PGM(input_dim=input_dim,output_dim=output_dim)\n",
    "lda_pgm.fit(train_feautres,train_labels)\n",
    "print(\"the model weight matrix shape: {0}\\nthe bias matrix shape: {1}.\".format(lda_pgm.get_w().shape,lda_pgm.get_b().shape))"
   ]
  },
  {
   "cell_type": "code",
   "execution_count": 9,
   "metadata": {},
   "outputs": [
    {
     "name": "stdout",
     "output_type": "stream",
     "text": [
      "train error rate: 0.125\n",
      "test error rate: 0.09271523178807947\n"
     ]
    }
   ],
   "source": [
    "# test the LDA_PGM model\n",
    "train_error_rate_for_lda_pgm = test(lda_pgm,train_feautres,train_labels)\n",
    "test_error_rate_for_lda_pgm = test(lda_pgm,test_features,test_labels)\n",
    "print(\"train error rate: {0}\\ntest error rate: {1}\".format(train_error_rate_for_lda_pgm,test_error_rate_for_lda_pgm))"
   ]
  }
 ],
 "metadata": {
  "interpreter": {
   "hash": "a25105b9da4e5c3c2f11f582b453fbebfd8480a96a3dfdf9e9e9e9c45b29cb41"
  },
  "kernelspec": {
   "display_name": "Python 3.8.8 ('base')",
   "language": "python",
   "name": "python3"
  },
  "language_info": {
   "codemirror_mode": {
    "name": "ipython",
    "version": 3
   },
   "file_extension": ".py",
   "mimetype": "text/x-python",
   "name": "python",
   "nbconvert_exporter": "python",
   "pygments_lexer": "ipython3",
   "version": "3.8.8"
  },
  "orig_nbformat": 4
 },
 "nbformat": 4,
 "nbformat_minor": 2
}
