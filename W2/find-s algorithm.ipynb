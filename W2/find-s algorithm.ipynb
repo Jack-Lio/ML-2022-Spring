{
 "cells": [
  {
   "cell_type": "code",
   "execution_count": 1,
   "id": "b54d5a70",
   "metadata": {},
   "outputs": [],
   "source": [
    "#!/user/bin/env python\n",
    "# -*- coding:utf-8 -*-\n",
    "# author: Wei Li\n",
    "# creat: 2022-3-16\n",
    "# modify: 2022-3-16\n",
    "# function: Implement find-s algorithm from Machine Learning by Thomas Mitchell (1997)\n",
    "# \n",
    "# the attribute 'playtennis' indicate whether or not being suitable for palying tennis. \n",
    "# \n",
    "# For all possible day with the following attributes:\n",
    "# Outlook: Sunny/Overcast/Rain\n",
    "# Temporature: Hot/Mild/Cool\n",
    "# Humidity: High/Normal\n",
    "# Wind: False/True\n",
    "# \n",
    "# \n",
    "# we use the hypothesis with the vector:\n",
    "# [Outlook, Temperature, Humidity, Wind]\n",
    "\n",
    "attributes = [['Sunny','Overcast','Rain'],\n",
    "              ['Hot','Mild','Cool'],\n",
    "              ['High','Normal'],\n",
    "              ['False','True']]\n",
    "num_attributes = len(attributes)"
   ]
  },
  {
   "cell_type": "code",
   "execution_count": 2,
   "id": "08446c10",
   "metadata": {},
   "outputs": [
    {
     "data": {
      "text/plain": [
       "([('Sunny', 'Hot', 'High', 'False'),\n",
       "  ('Sunny', 'Hot', 'High', 'True'),\n",
       "  ('Overcast', 'Hot', 'High', 'False'),\n",
       "  ('Rain', 'Mild', 'High', 'False'),\n",
       "  ('Rain', 'Cool', 'Normal', 'False'),\n",
       "  ('Rain', 'Cool', 'Normal', 'True'),\n",
       "  ('Overcast', 'Cool', 'Normal', 'True'),\n",
       "  ('Sunny', 'Mild', 'High', 'False'),\n",
       "  ('Sunny', 'Cool', 'Normal', 'False'),\n",
       "  ('Rain', 'Mild', 'Normal', 'False'),\n",
       "  ('Sunny', 'Mild', 'Normal', 'True'),\n",
       "  ('Overcast', 'Mild', 'High', 'True'),\n",
       "  ('Overcast', 'Hot', 'Normal', 'False'),\n",
       "  ('Rain', 'Mild', 'High', 'True')],\n",
       " ['No',\n",
       "  'No',\n",
       "  'Yes',\n",
       "  'Yes',\n",
       "  'Yes',\n",
       "  'No',\n",
       "  'Yes',\n",
       "  'No',\n",
       "  'Yes',\n",
       "  'Yes',\n",
       "  'Yes',\n",
       "  'Yes',\n",
       "  'Yes',\n",
       "  'No'])"
      ]
     },
     "execution_count": 2,
     "metadata": {},
     "output_type": "execute_result"
    }
   ],
   "source": [
    "# load the examples from 'data.txt'\n",
    "with open('./data.txt') as file:\n",
    "    examples = []; classifications = []\n",
    "    for line in file:\n",
    "        dataline = line.strip('\\n').split(' ')\n",
    "        examples.append(tuple(dataline[1:-1]))\n",
    "        classifications.append(dataline[-1])\n",
    "examples = examples[1:]\n",
    "classifications = classifications[1:]\n",
    "examples,classifications\n",
    "# examples = \n",
    "# [('Sunny', 'Hot', 'High', 'False'),\n",
    "#   ('Sunny', 'Hot', 'High', 'True'),\n",
    "#   ('Overcast', 'Hot', 'High', 'False'),\n",
    "#   ('Rain', 'Mild', 'High', 'False'),\n",
    "#   ('Rain', 'Cool', 'Normal', 'False'),\n",
    "#   ('Rain', 'Cool', 'Normal', 'True'),\n",
    "#   ('Overcast', 'Cool', 'Normal', 'True'),\n",
    "#   ('Sunny', 'Mild', 'High', 'False'),\n",
    "#   ('Sunny', 'Cool', 'Normal', 'False'),\n",
    "#   ('Rain', 'Mild', 'Normal', 'False'),\n",
    "#   ('Sunny', 'Mild', 'Normal', 'True'),\n",
    "#   ('Overcast', 'Mild', 'High', 'True'),\n",
    "#   ('Overcast', 'Hot', 'Normal', 'False'),\n",
    "#   ('Rain', 'Mild', 'High', 'True')]\n",
    "# classifications = \n",
    "# ['No',\n",
    "#   'No',\n",
    "#   'Yes',\n",
    "#   'Yes',\n",
    "#   'Yes',\n",
    "#   'No',\n",
    "#   'Yes',\n",
    "#   'No',\n",
    "#   'Yes',\n",
    "#   'Yes',\n",
    "#   'Yes',\n",
    "#   'Yes',\n",
    "#   'Yes',\n",
    "#   'No']"
   ]
  },
  {
   "cell_type": "code",
   "execution_count": 6,
   "id": "e7430ae2",
   "metadata": {},
   "outputs": [],
   "source": [
    "# implement the find-s algorithm\n",
    "def find_s(train_examples = [],classifications=[],num_attributes=0):\n",
    "    '''\n",
    "    @param: train_examples, the training examples\n",
    "            classifications, the category for each example\n",
    "            num_attributes, the number of attributes\n",
    "    @return: hypothesis, the special hypothesis that we found from these training examples\n",
    "\n",
    "    '''\n",
    "    assert(len(train_examples)!=0)\n",
    "    assert(len(train_examples)==len(classifications))\n",
    "    assert(len(train_examples[0])==num_attributes)\n",
    "    hypothesis = ['0']*num_attributes\n",
    "    count = 1\n",
    "    for exam,cla in zip(train_examples,classifications):\n",
    "        if cla == 'Yes':\n",
    "            for i in range(num_attributes):\n",
    "                exam_attr = exam[i]\n",
    "                hypt_attr = hypothesis[i]\n",
    "                if  hypt_attr == '0' and exam_attr in attributes[i]:\n",
    "                    hypt_attr = exam_attr\n",
    "                elif hypt_attr != exam_attr and hypt_attr != '?':\n",
    "                    hypt_attr = '?'\n",
    "                hypothesis[i] = hypt_attr\n",
    "        print(\"after example 【\",count,\"】:\",hypothesis);count+=1\n",
    "    return hypothesis"
   ]
  },
  {
   "cell_type": "code",
   "execution_count": 7,
   "id": "9f2be195",
   "metadata": {},
   "outputs": [],
   "source": [
    "def main():\n",
    "    hypothesis = find_s(examples,classifications,num_attributes)\n",
    "    print('the final hypothesis is:', hypothesis)"
   ]
  },
  {
   "cell_type": "code",
   "execution_count": 8,
   "id": "faae6697",
   "metadata": {},
   "outputs": [
    {
     "name": "stdout",
     "output_type": "stream",
     "text": [
      "after example 【 1 】: ['0', '0', '0', '0']\n",
      "after example 【 2 】: ['0', '0', '0', '0']\n",
      "after example 【 3 】: ['Overcast', 'Hot', 'High', 'False']\n",
      "after example 【 4 】: ['?', '?', 'High', 'False']\n",
      "after example 【 5 】: ['?', '?', '?', 'False']\n",
      "after example 【 6 】: ['?', '?', '?', 'False']\n",
      "after example 【 7 】: ['?', '?', '?', '?']\n",
      "after example 【 8 】: ['?', '?', '?', '?']\n",
      "after example 【 9 】: ['?', '?', '?', '?']\n",
      "after example 【 10 】: ['?', '?', '?', '?']\n",
      "after example 【 11 】: ['?', '?', '?', '?']\n",
      "after example 【 12 】: ['?', '?', '?', '?']\n",
      "after example 【 13 】: ['?', '?', '?', '?']\n",
      "after example 【 14 】: ['?', '?', '?', '?']\n",
      "the final hypothesis is: ['?', '?', '?', '?']\n"
     ]
    }
   ],
   "source": [
    "if __name__ == \"__main__\":\n",
    "    main()"
   ]
  },
  {
   "cell_type": "code",
   "execution_count": null,
   "id": "5ddd78d9",
   "metadata": {},
   "outputs": [],
   "source": []
  }
 ],
 "metadata": {
  "kernelspec": {
   "display_name": "Python 3",
   "language": "python",
   "name": "python3"
  },
  "language_info": {
   "codemirror_mode": {
    "name": "ipython",
    "version": 3
   },
   "file_extension": ".py",
   "mimetype": "text/x-python",
   "name": "python",
   "nbconvert_exporter": "python",
   "pygments_lexer": "ipython3",
   "version": "3.8.8"
  }
 },
 "nbformat": 4,
 "nbformat_minor": 5
}
